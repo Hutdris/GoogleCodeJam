{
 "cells": [
  {
   "cell_type": "code",
   "execution_count": 22,
   "metadata": {
    "collapsed": false
   },
   "outputs": [],
   "source": [
    "f = open('A-large-practice.in', 'r')\n",
    "ans = open('output.out','w')\n",
    "n = int(f.readline())\n",
    "i=0\n",
    "while (i<n):\n",
    "    i=i+1\n",
    "    shyness = f.readline()\n",
    "    shyness = shyness.split()\n",
    "    \n",
    "    ans.write(\"Case #%d: \" % i)\n",
    "    clapper = 0\n",
    "    want = 0\n",
    "    for j in range(int(shyness[0])+1):\n",
    "        if shyness[1][j] != '0':\n",
    "            if clapper < j:\n",
    "                want+=j-clapper\n",
    "                clapper+=j-clapper\n",
    "            \n",
    "            clapper+=int(shyness[1][j])\n",
    "            \n",
    "    ans.write(\"%d \\n\"%want)\n",
    "f.close()\n",
    "ans.close()"
   ]
  },
  {
   "cell_type": "code",
   "execution_count": null,
   "metadata": {
    "collapsed": true
   },
   "outputs": [],
   "source": []
  }
 ],
 "metadata": {
  "kernelspec": {
   "display_name": "Python 3",
   "language": "python",
   "name": "python3"
  },
  "language_info": {
   "codemirror_mode": {
    "name": "ipython",
    "version": 3
   },
   "file_extension": ".py",
   "mimetype": "text/x-python",
   "name": "python",
   "nbconvert_exporter": "python",
   "pygments_lexer": "ipython3",
   "version": "3.5.1"
  }
 },
 "nbformat": 4,
 "nbformat_minor": 0
}
