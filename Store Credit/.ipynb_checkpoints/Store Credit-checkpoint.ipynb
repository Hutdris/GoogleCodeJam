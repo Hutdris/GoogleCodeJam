{
 "cells": [
  {
   "cell_type": "code",
   "execution_count": null,
   "metadata": {
    "collapsed": false
   },
   "outputs": [],
   "source": []
  },
  {
   "cell_type": "code",
   "execution_count": 35,
   "metadata": {
    "collapsed": false
   },
   "outputs": [],
   "source": [
    "f = open('A-small-practice.in', 'r')\n",
    "ans = open('output.out','w')\n",
    "n = int(f.readline())\n",
    "i=0\n",
    "while (i<n):\n",
    "    i = i+1\n",
    "    ans.write(\"Case #%i: \"%i)\n",
    "    credit = int(f.readline())\n",
    "    item = int(f.readline())\n",
    "    \n",
    "    dict = {}\n",
    "    price = f.readline()\n",
    "    prices = price.split()\n",
    "    for k in range(item):\n",
    "        prices[k]=int(prices[k])\n",
    "    for j in range(item):\n",
    "        \n",
    "        if (prices[j] in dict):\n",
    "            if dict[prices[j]]<j:\n",
    "                ans.write(str(dict[prices[j]]+1)+\" \"+str(j+1)+\"\\n\")\n",
    "            else :\n",
    "                ans.write(str(j+1)+\" \"+str(dict[prices[j]]+1)+\"\\n\")\n",
    "        else:\n",
    "            dict[credit-prices[j]]= j\n",
    "f.close()\n",
    "ans.close()"
   ]
  },
  {
   "cell_type": "code",
   "execution_count": 39,
   "metadata": {
    "collapsed": true
   },
   "outputs": [],
   "source": [
    "f = open('A-large-practice.in', 'r')\n",
    "ans = open('output.out','w')\n",
    "n = int(f.readline())\n",
    "i=0\n",
    "while (i<n):\n",
    "    i = i+1\n",
    "    ans.write(\"Case #%i: \"%i)\n",
    "    credit = int(f.readline())\n",
    "    item = int(f.readline())\n",
    "    \n",
    "    dict = {}\n",
    "    prices = []\n",
    "    for k in f.readline().split():\n",
    "        prices.append(int(k))\n",
    "    for j in range(item):\n",
    "        \n",
    "        if (prices[j] in dict):\n",
    "            if dict[prices[j]]<j:\n",
    "                ans.write(str(dict[prices[j]]+1)+\" \"+str(j+1)+\"\\n\")\n",
    "            else :\n",
    "                ans.write(str(j+1)+\" \"+str(dict[prices[j]]+1)+\"\\n\")\n",
    "        else:\n",
    "            dict[credit-prices[j]]= j\n",
    "f.close()\n",
    "ans.close()"
   ]
  },
  {
   "cell_type": "code",
   "execution_count": null,
   "metadata": {
    "collapsed": true
   },
   "outputs": [],
   "source": []
  }
 ],
 "metadata": {
  "kernelspec": {
   "display_name": "Python 3",
   "language": "python",
   "name": "python3"
  },
  "language_info": {
   "codemirror_mode": {
    "name": "ipython",
    "version": 3
   },
   "file_extension": ".py",
   "mimetype": "text/x-python",
   "name": "python",
   "nbconvert_exporter": "python",
   "pygments_lexer": "ipython3",
   "version": "3.5.1"
  }
 },
 "nbformat": 4,
 "nbformat_minor": 0
}
